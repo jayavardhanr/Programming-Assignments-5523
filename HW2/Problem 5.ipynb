{
 "cells": [
  {
   "cell_type": "code",
   "execution_count": 1,
   "metadata": {
    "collapsed": true
   },
   "outputs": [],
   "source": [
    "import numpy as np"
   ]
  },
  {
   "cell_type": "code",
   "execution_count": 2,
   "metadata": {
    "collapsed": true
   },
   "outputs": [],
   "source": [
    "#True Concept\n",
    "l,r=np.random.uniform(0,1,2)\n",
    "if l>r:\n",
    "    r,l=l,r  \n",
    "t,b=np.random.uniform(0, 1,2)\n",
    "if b>t:\n",
    "    b,t=t,b"
   ]
  },
  {
   "cell_type": "code",
   "execution_count": 3,
   "metadata": {
    "collapsed": true
   },
   "outputs": [],
   "source": [
    "#Function to label points with respect to a rectangle\n",
    "def label_points_wrt_rectangle(coordinate_1,coordinate_2,l,r,b,t):\n",
    "    positive_labels=[]\n",
    "    negative_labels=[]\n",
    "    for c1,c2 in zip(coordinate_1,coordinate_2):\n",
    "        if c1 >= l and c1 <= r and c2 >= b and c2 <= t:\n",
    "            positive_labels.append((c1,c2))\n",
    "        else:\n",
    "            negative_labels.append((c1,c2))\n",
    "    return positive_labels,negative_labels\n",
    "\n",
    "#Get x,y coordinates for positive and negative points\n",
    "def get_x_y_coordinates(positive_labels,negative_labels):\n",
    "    if len(positive_labels)==0:\n",
    "        x1_pos,x2_pos=np.array([]),np.array([])\n",
    "    else:\n",
    "        x1_pos,x2_pos=np.array(positive_labels).T\n",
    "        \n",
    "    if len(negative_labels)==0:\n",
    "        x1_neg,x2_neg=np.array([]),np.array([])\n",
    "    else:\n",
    "        x1_neg,x2_neg=np.array(negative_labels).T\n",
    "        \n",
    "    return x1_pos,x2_pos,x1_neg,x2_neg\n",
    "\n",
    "#Algorithm-1\n",
    "#Finding the largest rectangle without '-' labelled points\n",
    "def find_largest_rectangle(x1_neg,x2_neg,l,r,b,t):\n",
    "    try:\n",
    "        l_largest=max(x for x,y in zip(x1_neg,x2_neg) if x < l and b<=y and y<=t)\n",
    "    except:\n",
    "        l_largest=0\n",
    "    try:   \n",
    "        r_largest=min(x for x,y in zip(x1_neg,x2_neg) if x > r and b<=y and y<=t)\n",
    "    except:\n",
    "        r_largest=1\n",
    "    try:\n",
    "        b_largest=max(y for x,y in zip(x1_neg,x2_neg) if y < b and l<=x and x<=r)\n",
    "    except:\n",
    "        b_largest=0\n",
    "    try:\n",
    "        t_largest=min(y for x,y in zip(x1_neg,x2_neg) if y > t and l<=x and x<=r)\n",
    "    except:\n",
    "        t_largest=1\n",
    "    \n",
    "    return l_largest,r_largest,b_largest,t_largest"
   ]
  },
  {
   "cell_type": "code",
   "execution_count": 4,
   "metadata": {
    "collapsed": true
   },
   "outputs": [],
   "source": [
    "#100 Training Points\n",
    "coordinate_1=np.random.uniform(0, 1,100)\n",
    "coordinate_2=np.random.uniform(0, 1,100)\n",
    "\n",
    "#Labelling the Training Points with true Concept l,r,b,t\n",
    "positive_labels,negative_labels=label_points_wrt_rectangle(coordinate_1,coordinate_2,l,r,b,t)\n",
    "x1_pos,x2_pos,x1_neg,x2_neg =get_x_y_coordinates(positive_labels,negative_labels)"
   ]
  },
  {
   "cell_type": "code",
   "execution_count": 5,
   "metadata": {},
   "outputs": [
    {
     "data": {
      "text/plain": [
       "<matplotlib.legend.Legend at 0x106c0c630>"
      ]
     },
     "execution_count": 5,
     "metadata": {},
     "output_type": "execute_result"
    },
    {
     "data": {
      "image/png": "[encoded data removed]",
      "text/plain": [
       "<matplotlib.figure.Figure at 0x10c9a7400>"
      ]
     },
     "metadata": {},
     "output_type": "display_data"
    }
   ],
   "source": [
    "#Plotting True Concept and Training Data\n",
    "%matplotlib inline\n",
    "import matplotlib.pyplot as plt\n",
    "import matplotlib.patches as patches\n",
    "fig2 = plt.figure(figsize=(10,10))\n",
    "ax2 = fig2.add_subplot(111, aspect='equal')\n",
    "ax2.add_patch(\n",
    "    patches.Rectangle(\n",
    "        (l, b),\n",
    "        r-l,\n",
    "        t-b,\n",
    "        fill=False      # remove background\n",
    "    )\n",
    ")\n",
    "ax2.plot(x1_pos,x2_pos,'b+',x1_neg,x2_neg,'r_')\n",
    "plt.title('Training Data and True Concept Rectangle')\n",
    "plt.xlabel('x')\n",
    "plt.ylabel('y')\n",
    "plt.legend(['Positive Labelled Points','Negative Labelled Points'])"
   ]
  },
  {
   "cell_type": "code",
   "execution_count": 6,
   "metadata": {
    "collapsed": true,
    "scrolled": true
   },
   "outputs": [],
   "source": [
    "#Algorithm-1\n",
    "#Finding the largest rectangle without '-' labelled points\n",
    "l_largest,r_largest,b_largest,t_largest=find_largest_rectangle(x1_neg,x2_neg,l,r,b,t)\n",
    "\n",
    "#100 Test Points\n",
    "coordinate_1_test=np.random.uniform(0, 1,100)\n",
    "coordinate_2_test=np.random.uniform(0, 1,100)\n",
    "\n",
    "#find Labels of the test points using the Algorithm-1\n",
    "positive_labels_test,negative_labels_test=label_points_wrt_rectangle(coordinate_1_test,coordinate_2_test,l_largest,r_largest,b_largest,t_largest)\n",
    "x1_pos_test,x2_pos_test,x1_neg_test,x2_neg_test =get_x_y_coordinates(positive_labels_test,negative_labels_test)\n"
   ]
  },
  {
   "cell_type": "code",
   "execution_count": 7,
   "metadata": {},
   "outputs": [
    {
     "data": {
      "text/plain": [
       "<matplotlib.legend.Legend at 0x110deeeb8>"
      ]
     },
     "execution_count": 7,
     "metadata": {},
     "output_type": "execute_result"
    },
    {
     "data": {
      "image/png": "[encoded data removed]",
      "text/plain": [
       "<matplotlib.figure.Figure at 0x1109de390>"
      ]
     },
     "metadata": {},
     "output_type": "display_data"
    }
   ],
   "source": [
    "#Plotting Algorithm 1 vs True Concept for Training Points\n",
    "%matplotlib inline\n",
    "import matplotlib.pyplot as plt\n",
    "import matplotlib.patches as patches\n",
    "fig2 = plt.figure(figsize=(10,10))\n",
    "ax2 = fig2.add_subplot(111, aspect='equal')\n",
    "\n",
    "#True Concept\n",
    "ax2.add_patch(\n",
    "    patches.Rectangle(\n",
    "        (l, b),\n",
    "        r-l,\n",
    "        t-b,\n",
    "        fill=False,# remove background\n",
    "    )\n",
    ")\n",
    "\n",
    "#Algorithm-1 Rectangle\n",
    "ax2.add_patch(\n",
    "    patches.Rectangle(\n",
    "        (l_largest, b_largest),\n",
    "        r_largest-l_largest,\n",
    "        t_largest-b_largest,\n",
    "        fill=False,      # remove background\n",
    "        color='m'\n",
    "    )\n",
    ")\n",
    "ax2.plot(x1_pos,x2_pos,'b+',x1_neg,x2_neg,'r_')\n",
    "plt.title('Largest Rectangle(Algorithm-1) vs True Concept for Training Points')\n",
    "plt.xlabel('x')\n",
    "plt.ylabel('y')\n",
    "plt.legend(['Positive Labelled Training Points','Negative Labelled Training Points'])"
   ]
  },
  {
   "cell_type": "code",
   "execution_count": 8,
   "metadata": {},
   "outputs": [
    {
     "data": {
      "text/plain": [
       "<matplotlib.legend.Legend at 0x110fd2b38>"
      ]
     },
     "execution_count": 8,
     "metadata": {},
     "output_type": "execute_result"
    },
    {
     "data": {
      "image/png": "[encoded data removed]",
      "text/plain": [
       "<matplotlib.figure.Figure at 0x110e0f9b0>"
      ]
     },
     "metadata": {},
     "output_type": "display_data"
    }
   ],
   "source": [
    "#Plotting Algorithm 1 vs True Concept for Test Points\n",
    "%matplotlib inline\n",
    "import matplotlib.pyplot as plt\n",
    "import matplotlib.patches as patches\n",
    "fig2 = plt.figure(figsize=(10,10))\n",
    "ax2 = fig2.add_subplot(111, aspect='equal')\n",
    "\n",
    "#True Concept\n",
    "ax2.add_patch(\n",
    "    patches.Rectangle(\n",
    "        (l, b),\n",
    "        r-l,\n",
    "        t-b,\n",
    "        fill=False,# remove background\n",
    "    )\n",
    ")\n",
    "\n",
    "#Algorithm-1 Rectangle\n",
    "ax2.add_patch(\n",
    "    patches.Rectangle(\n",
    "        (l_largest, b_largest),\n",
    "        r_largest-l_largest,\n",
    "        t_largest-b_largest,\n",
    "        fill=False,      # remove background\n",
    "        color='m'\n",
    "    )\n",
    ")\n",
    "ax2.plot(x1_pos_test,x2_pos_test,'b+',x1_neg_test,x2_neg_test,'r_')\n",
    "plt.title('Largest Rectangle(Algorithm-1) vs True Concept for Test Points')\n",
    "plt.xlabel('x')\n",
    "plt.ylabel('y')\n",
    "plt.legend(['Positive Labelled Test Points','Negative Labelled Test Points'])"
   ]
  },
  {
   "cell_type": "code",
   "execution_count": 9,
   "metadata": {},
   "outputs": [
    {
     "name": "stdout",
     "output_type": "stream",
     "text": [
      "Only false positives Exist in this Classification\n",
      "Number of false positives: 1\n",
      "Error from largest rectangle(Algorithm-1): 0.01\n"
     ]
    }
   ],
   "source": [
    "#Test Error\n",
    "#True Labels for Test points\n",
    "positive_labels_true,negative_labels_true=label_points_wrt_rectangle(coordinate_1_test,coordinate_2_test,l,r,b,t)\n",
    "\n",
    "print('Only false positives Exist in this Classification')\n",
    "false_positives=(len(positive_labels_test)-len(positive_labels_true))\n",
    "print('Number of false positives:',false_positives)\n",
    "\n",
    "error=(false_positives)/100\n",
    "print('Error from largest rectangle(Algorithm-1):',error)"
   ]
  },
  {
   "cell_type": "code",
   "execution_count": 10,
   "metadata": {
    "collapsed": true
   },
   "outputs": [],
   "source": [
    "def get_test_error_list(N,T):\n",
    "    test_errors=[]\n",
    "    for i in range(1,T+1):\n",
    "        #N Training Points\n",
    "        coordinate_1=np.random.uniform(0, 1,N)\n",
    "        coordinate_2=np.random.uniform(0, 1,N)\n",
    "\n",
    "        #Labelling the Training Points with true Concept l,r,b,t\n",
    "        positive_labels,negative_labels=label_points_wrt_rectangle(coordinate_1,coordinate_2,l,r,b,t)\n",
    "        x1_pos,x2_pos,x1_neg,x2_neg =get_x_y_coordinates(positive_labels,negative_labels)\n",
    "\n",
    "        #Algorithm-1\n",
    "        #Finding the largest rectangle without including '-' labelled points\n",
    "        l_largest,r_largest,b_largest,t_largest=find_largest_rectangle(x1_neg,x2_neg,l,r,b,t)\n",
    "\n",
    "        #N Test Points\n",
    "        coordinate_1_test=np.random.uniform(0, 1,N)\n",
    "        coordinate_2_test=np.random.uniform(0, 1,N)\n",
    "\n",
    "        #find Labels of the test points using the Algorithm-1\n",
    "        positive_labels_test,negative_labels_test=label_points_wrt_rectangle(coordinate_1_test,coordinate_2_test,l_largest,r_largest,b_largest,t_largest)\n",
    "\n",
    "        #Test Error\n",
    "        #True Labels for Test points\n",
    "        positive_labels_true,negative_labels_true=label_points_wrt_rectangle(coordinate_1_test,coordinate_2_test,l,r,b,t)\n",
    "\n",
    "        #print('Only false positives Exist in this Classification')\n",
    "        false_positives=(len(positive_labels_test)-len(positive_labels_true))\n",
    "        #print('Number of false positives:',false_positives)\n",
    "\n",
    "        error=((false_positives))/N\n",
    "        #print('Error for largest rectangle:',error)\n",
    "\n",
    "        test_errors.append(error)\n",
    "        \n",
    "    return test_errors"
   ]
  },
  {
   "cell_type": "code",
   "execution_count": 11,
   "metadata": {
    "collapsed": true
   },
   "outputs": [],
   "source": [
    "import math\n",
    "def generalization_bound(N):\n",
    "    e=2.7182\n",
    "    delta=0.01\n",
    "    d=4.0\n",
    "    r_sf=0\n",
    "    rf=r_sf+math.sqrt((2.0*d*math.log((e*N)/d))/N)+math.sqrt(math.log(1.0/delta)/(2*N))\n",
    "    return rf"
   ]
  },
  {
   "cell_type": "code",
   "execution_count": 12,
   "metadata": {
    "collapsed": true
   },
   "outputs": [],
   "source": [
    "#steps:\n",
    "#Repeat T:\n",
    "#1) Training Points\n",
    "#2) Algorithm-1\n",
    "#3) test Points\n",
    "#4) test Error\n",
    "\n",
    "#finally:\n",
    "#Histogram of Test Errors"
   ]
  },
  {
   "cell_type": "code",
   "execution_count": 13,
   "metadata": {},
   "outputs": [
    {
     "name": "stdout",
     "output_type": "stream",
     "text": [
      "Theoritical bound for error for N= 100 is 0.7326968055418672\n",
      "99 percentile of histogram for N= 100 is 0.1101\n"
     ]
    },
    {
     "data": {
      "image/png": "[encoded data removed]",
      "text/plain": [
       "<matplotlib.figure.Figure at 0x1109de710>"
      ]
     },
     "metadata": {},
     "output_type": "display_data"
    }
   ],
   "source": [
    "#calculate testerror for 100 Trails\n",
    "N=100\n",
    "T=100\n",
    "test_errors=get_test_error_list(N,T)\n",
    "\n",
    "%matplotlib inline\n",
    "plt.figure(figsize=(10,10))\n",
    "plt.bar(left=range(1,T+1),height=test_errors, width=1)\n",
    "plt.ylabel('Test Error')\n",
    "plt.xlabel('Trails')\n",
    "\n",
    "rf=generalization_bound(N)\n",
    "print('Theoritical bound for error for N=',N,'is',rf)\n",
    "\n",
    "#99 percentile of histogram\n",
    "print('99 percentile of histogram for N=',N,'is',np.percentile(np.array(test_errors),q=99.0))"
   ]
  },
  {
   "cell_type": "code",
   "execution_count": 14,
   "metadata": {},
   "outputs": [
    {
     "name": "stdout",
     "output_type": "stream",
     "text": [
      "theoritical error for N= 200 is 0.5505586267200807\n",
      "99 percentile of histogram for N= 200 is 0.05515\n"
     ]
    }
   ],
   "source": [
    "#calculate testerror for 200 Trails\n",
    "N=200\n",
    "T=100\n",
    "test_errors=get_test_error_list(N,T)\n",
    "\n",
    "rf=generalization_bound(N)\n",
    "print('theoritical error for N=',N,'is',rf)\n",
    "\n",
    "#99 percentile of histogram\n",
    "print('99 percentile of histogram for N=',N,'is',np.percentile(np.array(test_errors),q=99.0))"
   ]
  },
  {
   "cell_type": "code",
   "execution_count": 15,
   "metadata": {},
   "outputs": [
    {
     "name": "stdout",
     "output_type": "stream",
     "text": [
      "theoritical error for N= 50 is 0.9656703450374805\n",
      "99 percentile of histogram for N= 50 is 0.2206\n"
     ]
    }
   ],
   "source": [
    "#calculate testerror for 50 Trails\n",
    "N=50\n",
    "T=100\n",
    "test_errors=get_test_error_list(N,T)\n",
    "\n",
    "rf=generalization_bound(N)\n",
    "print('theoritical error for N=',N,'is',rf)\n",
    "\n",
    "#99 percentile of histogram\n",
    "print('99 percentile of histogram for N=',N,'is',np.percentile(np.array(test_errors),q=99.0))"
   ]
  },
  {
   "cell_type": "code",
   "execution_count": null,
   "metadata": {
    "collapsed": true
   },
   "outputs": [],
   "source": []
  }
 ],
 "metadata": {
  "kernelspec": {
   "display_name": "Python 3",
   "language": "python",
   "name": "python3"
  },
  "language_info": {
   "codemirror_mode": {
    "name": "ipython",
    "version": 3
   },
   "file_extension": ".py",
   "mimetype": "text/x-python",
   "name": "python",
   "nbconvert_exporter": "python",
   "pygments_lexer": "ipython3",
   "version": "3.5.4"
  }
 },
 "nbformat": 4,
 "nbformat_minor": 2
}
