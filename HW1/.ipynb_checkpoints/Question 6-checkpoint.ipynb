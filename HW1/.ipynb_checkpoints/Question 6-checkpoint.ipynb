{
 "cells": [
  {
   "cell_type": "code",
   "execution_count": 19,
   "metadata": {},
   "outputs": [
    {
     "name": "stdout",
     "output_type": "stream",
     "text": [
      "The numerical result is 0.084152 (+-1.00496e-10)\n"
     ]
    }
   ],
   "source": [
    "from math import cos, exp, pi\n",
    "from scipy.integrate import quad\n",
    "import numpy as np\n",
    "\n",
    "\n",
    "# function we want to integrate\n",
    "def f(x):\n",
    "    return 0.7*((1.0/((2*pi)**(0.5)))*(exp((-1.0*((x+1)**2.0))/(2.0))))\n",
    "\n",
    "res, err = quad(f, 0.1739,np.infty)\n",
    "\n",
    "print(\"The numerical result is {:f} (+-{:g})\"\n",
    "    .format(res, err))"
   ]
  },
  {
   "cell_type": "code",
   "execution_count": 20,
   "metadata": {},
   "outputs": [
    {
     "name": "stdout",
     "output_type": "stream",
     "text": [
      "The numerical result is 0.083869 (+-8.40275e-12)\n"
     ]
    }
   ],
   "source": [
    "#R- Error\n",
    "\n",
    "from math import cos, exp, pi\n",
    "from scipy.integrate import quad\n",
    "\n",
    "\n",
    "# function we want to integrate\n",
    "def f(x):\n",
    "    return ((0.3)*(1.0/((2*pi*2)**(0.5)))*(exp((-1.0*((x-1)**2.0))/4.0)))\n",
    "\n",
    "res, err = quad(f, -6.1739, 0.1739)\n",
    "\n",
    "print(\"The numerical result is {:f} (+-{:g})\"\n",
    "    .format(res, err))"
   ]
  },
  {
   "cell_type": "code",
   "execution_count": 21,
   "metadata": {},
   "outputs": [
    {
     "name": "stdout",
     "output_type": "stream",
     "text": [
      "The numerical result is 0.168021 (+-8.40999e-12)\n"
     ]
    }
   ],
   "source": [
    "#Scipy\n",
    "from math import exp, pi\n",
    "from scipy.integrate import quad\n",
    "import scipy\n",
    "\n",
    "\n",
    "# function we want to integrate\n",
    "def RplusError(x):\n",
    "    return ((0.7)*(1.0/((2*pi*1)**(0.5)))*(exp((-1.0*((x+1)**2.0))/(2.0))))\n",
    "\n",
    "def RminusError(x):\n",
    "    return ((0.3)*(1.0/((2*pi*2)**(0.5)))*(exp((-1.0*((x-1)**2.0))/(4.0))))\n",
    "\n",
    "#res1, err1 = quad(RplusError, -1*scipy.infty,-6.1739)\n",
    "#res2, err2 = quad(RplusError, 0.1739,scipy.infty)\n",
    "#res3, err3 = quad(RminusError, -6.1739,0.1739)\n",
    "\n",
    "res1, err1 = 0.7,0\n",
    "res2, err2 = quad(RplusError, -6.1739,0.1739)\n",
    "res3, err3 = quad(RminusError, -6.1739,0.1739)\n",
    "\n",
    "#print(\"The numerical result is {:f} (+-{:g})\"\n",
    "#    .format(res1+res2+res3, err1+err2+err3))\n",
    "\n",
    "print(\"The numerical result is {:f} (+-{:g})\"\n",
    "    .format(res1-res2+res3, err1+err2+err3))"
   ]
  },
  {
   "cell_type": "code",
   "execution_count": 22,
   "metadata": {},
   "outputs": [
    {
     "name": "stdout",
     "output_type": "stream",
     "text": [
      "The numerical result is 0.168096 (+-8.40807e-12)\n"
     ]
    }
   ],
   "source": [
    "#rough\n",
    "from math import exp, pi\n",
    "from scipy.integrate import quad\n",
    "import scipy\n",
    "\n",
    "\n",
    "# function we want to integrate\n",
    "def RplusError(x):\n",
    "    return (1.414*(0.7)*(1.0/((2*pi*1)**(0.5)))*(exp((-1.0*((x)**2.0)))))\n",
    "\n",
    "def RminusError(x):\n",
    "    return (2*(0.3)*(1.0/((2*pi*2)**(0.5)))*(exp((-1.0*((x)**2.0)))))\n",
    "\n",
    "#res1, err1 = quad(RplusError, -1*scipy.infty,-6.1739)\n",
    "#res2, err2 = quad(RplusError, 0.1739,scipy.infty)\n",
    "#res3, err3 = quad(RminusError, -6.1739,0.1739)\n",
    "\n",
    "res1, err1 = 0.7,0\n",
    "res2, err2 = quad(RplusError, -3.659,0.8302)\n",
    "res3, err3 = quad(RminusError, -3.5869,-0.4130)\n",
    "\n",
    "#print(\"The numerical result is {:f} (+-{:g})\"\n",
    "#    .format(res1+res2+res3, err1+err2+err3))\n",
    "\n",
    "print(\"The numerical result is {:f} (+-{:g})\"\n",
    "    .format(res1-res2+res3, err1+err2+err3))"
   ]
  },
  {
   "cell_type": "code",
   "execution_count": 23,
   "metadata": {},
   "outputs": [
    {
     "data": {
      "text/plain": [
       "0.1680030137063394"
      ]
     },
     "execution_count": 23,
     "metadata": {},
     "output_type": "execute_result"
    }
   ],
   "source": [
    "#using math.erf\n",
    "import math\n",
    "0.7-((0.7/2.0)*(math.erf(0.8302)+math.erf(3.659)))+((0.3/2.0)*(math.erf(3.5869)-math.erf(0.4130)))"
   ]
  },
  {
   "cell_type": "code",
   "execution_count": null,
   "metadata": {
    "collapsed": true
   },
   "outputs": [],
   "source": []
  }
 ],
 "metadata": {
  "kernelspec": {
   "display_name": "Python 2",
   "language": "python",
   "name": "python2"
  },
  "language_info": {
   "codemirror_mode": {
    "name": "ipython",
    "version": 2
   },
   "file_extension": ".py",
   "mimetype": "text/x-python",
   "name": "python",
   "nbconvert_exporter": "python",
   "pygments_lexer": "ipython2",
   "version": "2.7.13"
  }
 },
 "nbformat": 4,
 "nbformat_minor": 2
}
